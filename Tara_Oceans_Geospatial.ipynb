{
 "cells": [
  {
   "cell_type": "markdown",
   "metadata": {},
   "source": [
    "# Plotting Tara Oceans sample locations\n",
    "\n",
    "This notebook shows how to plot geospatial metadata attached to the samples gathered by the Tara Oceans project. It will become apparent there is an error in the data.\n",
    "\n",
    "This notebook uses a preview feature of the IDR. Change `idr.openmicroscopy.org` to a server with websockets enabled.\n",
    "\n",
    "### Dependencies\n",
    "- [folium](https://github.com/python-visualization/folium)\n",
    "- [pandas](https://pandas.pydata.org/)"
   ]
  },
  {
   "cell_type": "code",
   "execution_count": null,
   "metadata": {},
   "outputs": [],
   "source": [
    "import folium\n",
    "import omero.clients\n",
    "from omero.gateway import BlitzGateway\n",
    "\n",
    "def connection():\n",
    "    c = BlitzGateway(\n",
    "        host='ws://idr.openmicroscopy.org/omero-ws',\n",
    "        username='public',\n",
    "        passwd='public',\n",
    "        secure=True)\n",
    "    assert c.connect()\n",
    "    return c\n"
   ]
  },
  {
   "cell_type": "markdown",
   "metadata": {},
   "source": [
    "Each plate in the [Tara Oceans dataset](https://idr.openmicroscopy.org/webclient/?show=screen-1201) contains multiple microscopy images taken from a water sample. Each plate has metadata stored as key-value pairs, including the coordinates of the water sample location."
   ]
  },
  {
   "cell_type": "code",
   "execution_count": null,
   "metadata": {},
   "outputs": [],
   "source": [
    "c = connection()\n",
    "screen = c.getObject('Screen', 1201)\n",
    "coords = []\n",
    "for p in screen.listChildren():\n",
    "    try:\n",
    "        d = dict(p.getAnnotation().getValue())\n",
    "    except AttributeError:\n",
    "        continue\n",
    "    if all ((f in d) for f in (\n",
    "        'EVENT_LATITUDE_Start',\n",
    "        'EVENT_LONGITUDE_Start',\n",
    "        'EVENT_LATITUDE_End',\n",
    "        'EVENT_LONGITUDE_End',\n",
    "    )):\n",
    "        co = (\n",
    "            p.getId(),\n",
    "            p.getName(),\n",
    "            float(d['EVENT_LATITUDE_Start']),\n",
    "            float(d['EVENT_LONGITUDE_Start']),\n",
    "            float(d['EVENT_LATITUDE_End']),\n",
    "            float(d['EVENT_LONGITUDE_End']),\n",
    "        )\n",
    "        coords.append(co)\n",
    "c.close()"
   ]
  },
  {
   "cell_type": "markdown",
   "metadata": {},
   "source": [
    "Create a folium feature for each sample"
   ]
  },
  {
   "cell_type": "code",
   "execution_count": null,
   "metadata": {},
   "outputs": [],
   "source": [
    "features = folium.FeatureGroup(name=\"Samples\")\n",
    "for coord in coords:\n",
    "    line = [\n",
    "        (coord[2], coord[3]),\n",
    "        (coord[4], coord[5]),\n",
    "    ]\n",
    "    label = '<a href=\"https://idr.openmicroscopy.org/webclient/?show=plate-%d\" target=\"_blank\">Plate %s</a>' % coord[:2]\n",
    "    sample = folium.PolyLine(line, popup=label, color='red', weight=10)\n",
    "    features.add_child(sample)"
   ]
  },
  {
   "cell_type": "markdown",
   "metadata": {},
   "source": [
    "Create and display the map. Clicking on each point will popup the plate name and a link to the IDR data."
   ]
  },
  {
   "cell_type": "code",
   "execution_count": null,
   "metadata": {},
   "outputs": [],
   "source": [
    "m = folium.Map(location=[0, 0], zoom_start=2,)\n",
    "m.add_child(features)\n",
    "m"
   ]
  },
  {
   "cell_type": "markdown",
   "metadata": {},
   "source": [
    "There is a very obvious artifact corresponding to [TARA_HCS1_H5_G100006116_G100006253--2013_10_30_19_38_12_chamber--U01--V01](https://idr.openmicroscopy.org/webclient/?show=plate-4807). Examination of the metadata in the key-value pairs suggests either the start or end coordinate has an incorrect east/west longitude:\n",
    "\n",
    "```\n",
    "EVENT_LATITUDE_Start    25.5264\n",
    "EVENT_LONGITUDE_Start  -88.394\n",
    "EVENT_LATITUDE_End      25.5416\n",
    "EVENT_LONGITUDE_End     88.4044\n",
    "```\n",
    "\n",
    "From the map it should be obvious that the eastern end of the sample is on land (zoom in to the endpoints of the incorrect plotted sample if this isn't clear). `EVENT_LONGITUDE_End` is incorrect and should probably be `-88.4044`.\n",
    "\n",
    "The IDR has full provenance information for the Tara Oceans samples, so we can verify this by scrolling though the key-value pairs to [`EVENT_URI_Event_Logsheet`](http://store.pangaea.de/Projects/TARA-OCEANS/Logsheets_Event/TARA_20120109T1341Z_142_EVENT_PUMP.pdf) and clicking on the link to view the scanned logsheet.\n",
    "\n",
    "The start and end longitudes are both in the west (i.e. negative). Note that coordinates on the logsheets are in a different format, but after conversion it matches our expectation"
   ]
  },
  {
   "cell_type": "code",
   "execution_count": null,
   "metadata": {},
   "outputs": [],
   "source": [
    "88 + (24.261 / 60)"
   ]
  }
 ],
 "metadata": {
  "kernelspec": {
   "display_name": "Python 2",
   "language": "python",
   "name": "python2"
  },
  "language_info": {
   "codemirror_mode": {
    "name": "ipython",
    "version": 2
   },
   "file_extension": ".py",
   "mimetype": "text/x-python",
   "name": "python",
   "nbconvert_exporter": "python",
   "pygments_lexer": "ipython2",
   "version": "2.7.16"
  }
 },
 "nbformat": 4,
 "nbformat_minor": 2
}
